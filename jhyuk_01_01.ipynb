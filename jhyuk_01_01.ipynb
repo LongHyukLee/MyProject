{
 "cells": [
  {
   "cell_type": "code",
   "execution_count": 1,
   "metadata": {},
   "outputs": [
    {
     "name": "stdout",
     "output_type": "stream",
     "text": [
      "시작점과 끝점 사이의 prime_number를 찾는 프로그램입니다.\n",
      "\n",
      "시작점을 입력해주세요: 200\n",
      "마지막 숫자를 입력해주세요: 350\n",
      "\n",
      "시작값: 200 , 끝값: 350\n",
      "[211, 223, 227, 229, 233, 239, 241, 251, 257, 263, 269, 271, 277, 281, 283, 293, 307, 311, 313, 317, 331, 337, 347, 349]\n"
     ]
    }
   ],
   "source": [
    "#2012508087\n",
    "#경영학과 이종혁\n",
    "\n",
    "print(\"시작점과 끝점 사이의 prime_number를 찾는 프로그램입니다.\\n\")\n",
    "\n",
    "# begin, end값 입력받기.\n",
    "begin = int(input(\"시작점을 입력해주세요: \"))\n",
    "\n",
    "while begin < 1:\n",
    "    print(\"!error: 1이상의 [begin]값 필요\\n\")\n",
    "    new_begin = int(input(\"시작점을 다시 입력해주세요: \"))\n",
    "    if new_begin >= 1:\n",
    "        begin = new_begin\n",
    "        \n",
    "end = int(input(\"마지막 숫자를 입력해주세요: \"))\n",
    "\n",
    "while end <= begin:\n",
    "    print(\"!error: [begin+1] 이상의 [end]값 필요\\n\")\n",
    "    new_end = int(input(\"끝 값을 다시 입력해주세요: \"))\n",
    "    if new_end > begin:\n",
    "        end = new_end\n",
    "        \n",
    "# 함수 작성\n",
    "\n",
    "def get_prime_number(begin, end):\n",
    "    p_numlist = [] # 리스트 선언 및 초기화 / 모든 소수를 담기 위한 리스트\n",
    "    return_list = [] # begin과 end사이의 값만 담는 리스트.\n",
    "\n",
    "    # 먼저 모든 소수를 담는 리스트를 설정한다.\n",
    "    \n",
    "    if end == 2:\n",
    "        p_numlist = []  # 끝값이 exclusive하기 때문에,\n",
    "                        # end = 2인 경우, 빈 리스트만 남는다.\n",
    "            \n",
    "    else:\n",
    "        for i in range(2, end):\n",
    "            flag = 1 # flag == 1인 경우,p_numlist에 추가한다.\n",
    "            \n",
    "            if i == 2: # 첫 prime number 추가.(초기값)\n",
    "                flag =1 \n",
    "                \n",
    "            else: # 현재까지 나온 소수들로 나눴을때, 나누어떨어지는 수는 소수에서 제외함.\n",
    "                for j in range(len(p_numlist)):\n",
    "                    if i % p_numlist[j] == 0:\n",
    "                        flag = 0\n",
    "                        \n",
    "            if flag == 1: # 끝까지 살아남은 친구들은 p_numlist에 추가한다.\n",
    "                p_numlist.append(i)\n",
    "\n",
    "                if i >= begin: #소수들 중 begin보다 크거나 같은 값은 return_list에 추가.\n",
    "                    return_list.append(i)\n",
    "                    \n",
    "    return return_list;\n",
    "\n",
    "print(\"\\n시작값:\",begin,\", 끝값:\",end)\n",
    "print(get_prime_number(begin,end))"
   ]
  }
 ],
 "metadata": {
  "kernelspec": {
   "display_name": "Python 3",
   "language": "python",
   "name": "python3"
  },
  "language_info": {
   "codemirror_mode": {
    "name": "ipython",
    "version": 3
   },
   "file_extension": ".py",
   "mimetype": "text/x-python",
   "name": "python",
   "nbconvert_exporter": "python",
   "pygments_lexer": "ipython3",
   "version": "3.7.1"
  }
 },
 "nbformat": 4,
 "nbformat_minor": 2
}
